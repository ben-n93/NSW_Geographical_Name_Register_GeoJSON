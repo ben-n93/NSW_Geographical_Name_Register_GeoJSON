{
 "cells": [
  {
   "cell_type": "code",
   "execution_count": 10,
   "id": "315f919c",
   "metadata": {},
   "outputs": [],
   "source": [
    "import pandas as pd\n",
    "import geojson"
   ]
  },
  {
   "cell_type": "code",
   "execution_count": 11,
   "id": "384bfb9f",
   "metadata": {},
   "outputs": [],
   "source": [
    "df = pd.read_csv('../data/GNR_29Jul2023.csv',\n",
    "    dtype={\n",
    "    'REFERENCE': str,\n",
    "    'PLACENAME': str,\n",
    "    'DESIGNATION': str,\n",
    "    'STATUS': str,\n",
    "    'DUAL NAME': str,\n",
    "    'GAZETTE DATE': str,\n",
    "    'GEOGRAPHICAL NAME': str,\n",
    "    'PREVIOUS NAMES': str,\n",
    "    'GNB FILE': str,\n",
    "    'LGA': str,\n",
    "    'LGA AT GAZETTAL': str,\n",
    "    '1:25,000 MAP NAME': str,\n",
    "    '1:100,000 MAP': str,\n",
    "    'PARISH': str,\n",
    "    'COUNTY': str,\n",
    "    'DESCRIPTION': str,\n",
    "    'MEANING': str,\n",
    "    'ORIGIN': str,\n",
    "    'HISTORY': str,\n",
    "    'PRONUNCIATION': str,\n",
    "    'ABORIGINAL NAME': str,\n",
    "    'GDA2020 LAT': float,\n",
    "    'GDA2020 LONG': float})"
   ]
  },
  {
   "cell_type": "code",
   "execution_count": 12,
   "id": "9483f229",
   "metadata": {},
   "outputs": [],
   "source": [
    "features = []\n",
    "for index, row in df.iterrows():\n",
    "    if pd.isna(df.at[index, 'GDA2020 LAT']):\n",
    "        coordinates = geojson.Point(0, 0)\n",
    "    else:\n",
    "        coordinates = geojson.Point((row['GDA2020 LONG'], row['GDA2020 LAT']))\n",
    "\n",
    "    properties = df.loc[index, ['REFERENCE', 'PLACENAME', 'DESIGNATION',\n",
    "                                'STATUS', 'DUAL NAME', 'GAZETTE DATE',\n",
    "                                'GEOGRAPHICAL NAME', 'PREVIOUS NAMES',\n",
    "                               'GNB FILE', 'LGA', 'LGA AT GAZETTAL',\n",
    "                               '1:25,000 MAP NAME', '1:100,000 MAP',\n",
    "                                'PARISH','COUNTY', 'DESCRIPTION',\n",
    "                                'MEANING', 'ORIGIN', 'HISTORY',\n",
    "                                'PRONUNCIATION', 'ABORIGINAL NAME'\n",
    "                               ]].to_dict()\n",
    "    new_properties = {}\n",
    "    for key, value in properties.items():\n",
    "        if pd.isna(df.at[index, key]): # Nan values will result in error when passed to GeoJSON.\n",
    "            new_properties[key] = None\n",
    "        else:\n",
    "            new_properties[key] = value\n",
    "\n",
    "    feature = geojson.Feature(geometry=coordinates, properties=new_properties)\n",
    "    features.append(feature)\n",
    "\n",
    "feature_collection = geojson.FeatureCollection(features)\n",
    "with open(\"../data/output.geojson\", \"w\") as f:\n",
    "    geojson.dump(feature_collection, f)"
   ]
  }
 ],
 "metadata": {
  "kernelspec": {
   "display_name": "Python 3 (ipykernel)",
   "language": "python",
   "name": "python3"
  },
  "language_info": {
   "codemirror_mode": {
    "name": "ipython",
    "version": 3
   },
   "file_extension": ".py",
   "mimetype": "text/x-python",
   "name": "python",
   "nbconvert_exporter": "python",
   "pygments_lexer": "ipython3",
   "version": "3.9.17"
  }
 },
 "nbformat": 4,
 "nbformat_minor": 5
}
